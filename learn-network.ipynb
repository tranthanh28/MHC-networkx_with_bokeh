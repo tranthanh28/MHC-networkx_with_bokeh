{
 "cells": [
  {
   "cell_type": "code",
   "execution_count": 40,
   "metadata": {
    "collapsed": true
   },
   "outputs": [],
   "source": [
    "import networkx as nx\n",
    "import pandas as pd\n",
    "import matplotlib.pyplot as plt\n",
    "import matplotlib as mpl\n",
    "import numpy as np\n",
    "G = nx.DiGraph()"
   ]
  },
  {
   "cell_type": "markdown",
   "source": [],
   "metadata": {
    "collapsed": false
   }
  },
  {
   "cell_type": "code",
   "execution_count": 41,
   "outputs": [],
   "source": [
    "# nx.add_path(G, [0, 1, 2, 0])\n",
    "# thêm các đường dẫn 0->1->2->0"
   ],
   "metadata": {
    "collapsed": false
   }
  },
  {
   "cell_type": "code",
   "execution_count": 84,
   "outputs": [],
   "source": [
    "G.add_edge(2, 3, points=27)\n",
    "G.add_edge(1, 2, points=20)\n",
    "G.add_edge(0, 1, points=50)\n",
    "G.add_edge(2, 0, points=50)\n",
    "# thêm 1 cạnh từ node 2-> 3 với data weight = 5"
   ],
   "metadata": {
    "collapsed": false
   }
  },
  {
   "cell_type": "code",
   "execution_count": 85,
   "outputs": [],
   "source": [
    "weighted_degrees = dict(nx.degree(G,weight='weight'))"
   ],
   "metadata": {
    "collapsed": false
   }
  },
  {
   "cell_type": "code",
   "execution_count": 86,
   "outputs": [
    {
     "data": {
      "text/plain": "[{'points': 27}, {'points': 50}, {'points': 20}, {'points': 50}]"
     },
     "execution_count": 86,
     "metadata": {},
     "output_type": "execute_result"
    }
   ],
   "source": [
    "[e[2] for e in G.edges(data=True)]\n",
    "# lặp tất cả các cạnh và trả ve data them nhu weith o e[2]"
   ],
   "metadata": {
    "collapsed": false
   }
  },
  {
   "cell_type": "code",
   "execution_count": 87,
   "outputs": [
    {
     "data": {
      "text/plain": "OutEdgeDataView([(2, 3, 27), (2, 0, 50), (1, 2, 20), (0, 1, 50)])"
     },
     "execution_count": 87,
     "metadata": {},
     "output_type": "execute_result"
    }
   ],
   "source": [
    "G.edges.data(\"points\", default=1)"
   ],
   "metadata": {
    "collapsed": false
   }
  },
  {
   "cell_type": "code",
   "execution_count": 88,
   "outputs": [
    {
     "data": {
      "text/plain": "[{'points': 27}, {'points': 50}, {'points': 20}, {'points': 50}]"
     },
     "execution_count": 88,
     "metadata": {},
     "output_type": "execute_result"
    }
   ],
   "source": [
    "[e[2] for e in G.edges(data=True)]"
   ],
   "metadata": {
    "collapsed": false
   }
  },
  {
   "cell_type": "code",
   "execution_count": 89,
   "outputs": [
    {
     "data": {
      "text/plain": "OutDegreeView({2: 77, 3: 0, 1: 20, 0: 50})"
     },
     "execution_count": 89,
     "metadata": {},
     "output_type": "execute_result"
    }
   ],
   "source": [
    "G.out_degree(weight='points')\n",
    "# số điểm ra của mỗi node với điểm tính bằng weight"
   ],
   "metadata": {
    "collapsed": false
   }
  },
  {
   "cell_type": "code",
   "execution_count": 90,
   "outputs": [
    {
     "data": {
      "text/plain": "<Figure size 432x288 with 1 Axes>",
      "image/png": "[encoded data removed]"
     },
     "metadata": {},
     "output_type": "display_data"
    }
   ],
   "source": [
    "nx.draw_networkx(G)\n",
    "# thực hiện vẽ networkx"
   ],
   "metadata": {
    "collapsed": false
   }
  },
  {
   "cell_type": "code",
   "execution_count": 91,
   "outputs": [
    {
     "name": "stdout",
     "output_type": "stream",
     "text": [
      "DiGraph with 4 nodes and 4 edges\n"
     ]
    }
   ],
   "source": [
    "print(nx.info(G))\n",
    "# in ra thông tin của graph G"
   ],
   "metadata": {
    "collapsed": false
   }
  },
  {
   "cell_type": "code",
   "execution_count": 92,
   "outputs": [
    {
     "data": {
      "text/plain": "dict_values([3, 1, 2, 2])"
     },
     "execution_count": 92,
     "metadata": {},
     "output_type": "execute_result"
    }
   ],
   "source": [
    "dict(G.degree()).values()\n",
    "# degree tra ve cap bac cua 1 node: in_degree + out_degree"
   ],
   "metadata": {
    "collapsed": false
   }
  },
  {
   "cell_type": "code",
   "execution_count": 93,
   "outputs": [
    {
     "data": {
      "text/plain": "(array([1., 0., 0., 0., 0., 2., 0., 0., 0., 1.]),\n array([1. , 1.2, 1.4, 1.6, 1.8, 2. , 2.2, 2.4, 2.6, 2.8, 3. ]),\n <BarContainer object of 10 artists>)"
     },
     "execution_count": 93,
     "metadata": {},
     "output_type": "execute_result"
    },
    {
     "data": {
      "text/plain": "<Figure size 432x288 with 1 Axes>",
      "image/png": "[encoded data removed]"
     },
     "metadata": {},
     "output_type": "display_data"
    }
   ],
   "source": [
    "plt.hist(dict(G.degree()).values())\n",
    "# vẽ 1 biểu đồ thể hiện số lần lặp lại của 1 giá trị(value)"
   ],
   "metadata": {
    "collapsed": false
   }
  },
  {
   "cell_type": "code",
   "execution_count": 94,
   "outputs": [
    {
     "data": {
      "text/plain": "{2: 0.31578984160797924,\n 3: 0.21052654260098952,\n 1: 0.2631570731900417,\n 0: 0.21052654260098952}"
     },
     "execution_count": 94,
     "metadata": {},
     "output_type": "execute_result"
    }
   ],
   "source": [
    "nx.pagerank(G,alpha=1)"
   ],
   "metadata": {
    "collapsed": false
   }
  },
  {
   "cell_type": "code",
   "execution_count": 95,
   "outputs": [
    {
     "data": {
      "text/plain": "{2: 0.5, 3: 0.0, 1: 0.3333333333333333, 0: 0.16666666666666666}"
     },
     "execution_count": 95,
     "metadata": {},
     "output_type": "execute_result"
    }
   ],
   "source": [
    "nx.betweenness_centrality(G)"
   ],
   "metadata": {
    "collapsed": false
   }
  },
  {
   "cell_type": "code",
   "execution_count": 118,
   "outputs": [
    {
     "data": {
      "text/plain": "<Figure size 432x288 with 5 Axes>",
      "image/png": "[encoded data removed]"
     },
     "metadata": {},
     "output_type": "display_data"
    }
   ],
   "source": [
    "ax=plt.gca()\n",
    "fig=plt.gcf()\n",
    "plt.axis('off')\n",
    "plt.title('Eurovision 2018 Final Votes',fontsize = 24)\n",
    "\n",
    "# pos = nx.layout.fruchterman_reingold_layout(G,k=1,weight = 'points',iterations=1000,scale = 2)\n",
    "pos = nx.spring_layout(G)\n",
    "\n",
    "trans = ax.transData.transform\n",
    "trans2 = fig.transFigure.inverted().transform\n",
    "\n",
    "\n",
    "tick_params = {'top':'off', 'bottom':'off', 'left':'off', 'right':'off',\n",
    "              'labelleft':'off', 'labelbottom':'off', 'grid_color':'r'} #flag grid params\n",
    "styles = ['dotted','dashdot','dashed','solid'] # line styles\n",
    "\n",
    "\n",
    "\n",
    "# draw edges\n",
    "for e in G.edges(data=True):\n",
    "    width = e[2]['points']/24 #normalize by max points\n",
    "    style='solid'\n",
    "    # if width>0.4: #filter small votes\n",
    "    nx.draw_networkx_edges(G,pos,edgelist=[e],width=width,\n",
    "                               style=style )\n",
    "#         # in networkx versions >2.1 arrowheads can be adjusted\n",
    "\n",
    "# draw nodes\n",
    "for node in G.nodes():\n",
    "    imsize = max((0.3*G.degree(node,weight='points')/max(dict(G.degree(weight='points')).values()))**2,0.03)\n",
    "    # size is proportional to the votes\n",
    "    flag = mpl.image.imread('fb.png')\n",
    "\n",
    "    (x,y) = pos[node]\n",
    "    xx,yy = trans((x,y)) # figure coordinates\n",
    "    xa,ya = trans2((xx,yy)) # axes coordinates\n",
    "\n",
    "    country = plt.axes([xa-imsize/2.0,ya-imsize/2.0, imsize, imsize ])\n",
    "    # axes de ve lai hinh anh tu toa do bao nhieu va kick thuoc to nho.\n",
    "    country.imshow(flag)\n",
    "    # them anh vao axes da tao\n",
    "    country.set_aspect('equal')\n",
    "    # tao ti le voi truc x/y. co cac gia tri equal, auto, float\n",
    "    country.tick_params(**tick_params)\n",
    "# draw node new\n",
    "# nx.draw_networkx_labels(G,pos)\n",
    "# for node in G.nodes():\n",
    "#     size = 100*weighted_degrees[node]*0.5\n",
    "#     ns = nx.draw_networkx_nodes(G,pos,nodelist=[node], node_size=size, node_color='#009fe3')\n",
    "#     ns.set_edgecolor('#f2f6fa')\n",
    "\n",
    "fig.savefig('images/test.png')"
   ],
   "metadata": {
    "collapsed": false
   }
  },
  {
   "cell_type": "code",
   "execution_count": 101,
   "outputs": [
    {
     "data": {
      "text/plain": "<Figure size 432x288 with 1 Axes>",
      "image/png": "[encoded data removed]"
     },
     "metadata": {},
     "output_type": "display_data"
    }
   ],
   "source": [
    "nx.draw_networkx(G)"
   ],
   "metadata": {
    "collapsed": false
   }
  },
  {
   "cell_type": "code",
   "execution_count": 98,
   "outputs": [
    {
     "ename": "TypeError",
     "evalue": "axes() takes from 0 to 1 positional arguments but 2 were given",
     "output_type": "error",
     "traceback": [
      "\u001B[1;31m---------------------------------------------------------------------------\u001B[0m",
      "\u001B[1;31mTypeError\u001B[0m                                 Traceback (most recent call last)",
      "\u001B[1;32m~\\AppData\\Local\\Temp/ipykernel_13020/3277405426.py\u001B[0m in \u001B[0;36m<module>\u001B[1;34m\u001B[0m\n\u001B[0;32m      1\u001B[0m \u001B[0mx\u001B[0m \u001B[1;33m=\u001B[0m \u001B[1;33m[\u001B[0m\u001B[1;36m1\u001B[0m\u001B[1;33m,\u001B[0m \u001B[1;36m2\u001B[0m\u001B[1;33m,\u001B[0m \u001B[1;36m3\u001B[0m\u001B[1;33m]\u001B[0m\u001B[1;33m\u001B[0m\u001B[1;33m\u001B[0m\u001B[0m\n\u001B[0;32m      2\u001B[0m \u001B[0my\u001B[0m \u001B[1;33m=\u001B[0m \u001B[0mnp\u001B[0m\u001B[1;33m.\u001B[0m\u001B[0marray\u001B[0m\u001B[1;33m(\u001B[0m\u001B[1;33m[\u001B[0m\u001B[1;33m[\u001B[0m\u001B[1;36m1\u001B[0m\u001B[1;33m,\u001B[0m \u001B[1;36m2\u001B[0m\u001B[1;33m]\u001B[0m\u001B[1;33m,\u001B[0m \u001B[1;33m[\u001B[0m\u001B[1;36m3\u001B[0m\u001B[1;33m,\u001B[0m \u001B[1;36m4\u001B[0m\u001B[1;33m]\u001B[0m\u001B[1;33m,\u001B[0m \u001B[1;33m[\u001B[0m\u001B[1;36m5\u001B[0m\u001B[1;33m,\u001B[0m \u001B[1;36m6\u001B[0m\u001B[1;33m]\u001B[0m\u001B[1;33m]\u001B[0m\u001B[1;33m)\u001B[0m\u001B[1;33m\u001B[0m\u001B[1;33m\u001B[0m\u001B[0m\n\u001B[1;32m----> 3\u001B[1;33m \u001B[0mplt\u001B[0m\u001B[1;33m.\u001B[0m\u001B[0maxes\u001B[0m\u001B[1;33m(\u001B[0m\u001B[0mx\u001B[0m\u001B[1;33m,\u001B[0m \u001B[0my\u001B[0m\u001B[1;33m)\u001B[0m\u001B[1;33m\u001B[0m\u001B[1;33m\u001B[0m\u001B[0m\n\u001B[0m",
      "\u001B[1;31mTypeError\u001B[0m: axes() takes from 0 to 1 positional arguments but 2 were given"
     ]
    }
   ],
   "source": [
    "x = [1, 2, 3]\n",
    "y = np.array([[1, 2], [3, 4], [5, 6]])\n",
    "plt.axes(x, y)"
   ],
   "metadata": {
    "collapsed": false
   }
  },
  {
   "cell_type": "code",
   "execution_count": null,
   "outputs": [],
   "source": [],
   "metadata": {
    "collapsed": false
   }
  }
 ],
 "metadata": {
  "kernelspec": {
   "display_name": "Python 3",
   "language": "python",
   "name": "python3"
  },
  "language_info": {
   "codemirror_mode": {
    "name": "ipython",
    "version": 2
   },
   "file_extension": ".py",
   "mimetype": "text/x-python",
   "name": "python",
   "nbconvert_exporter": "python",
   "pygments_lexer": "ipython2",
   "version": "2.7.6"
  }
 },
 "nbformat": 4,
 "nbformat_minor": 0
}
